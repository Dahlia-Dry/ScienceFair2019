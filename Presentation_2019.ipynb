{
 "cells": [
  {
   "cell_type": "markdown",
   "metadata": {},
   "source": [
    "# Plotting New Horizons: A Statistical Analysis of Potential Factors Influencing Planetary System Formation"
   ]
  },
  {
   "cell_type": "markdown",
   "metadata": {},
   "source": [
    "## I. Visualizing the Kepler Star Field"
   ]
  },
  {
   "cell_type": "code",
   "execution_count": null,
   "metadata": {},
   "outputs": [],
   "source": [
    "import pandas as pd\n",
    "import numpy as np\n",
    "from astropy import units as u\n",
    "from astropy.coordinates import SkyCoord\n",
    "import math\n",
    "import ipyvolume as ipv\n",
    "from ipywidgets import FloatSlider, ColorPicker, VBox, jslink, IntSlider, ToggleButton\n",
    "import ipyvolume.pylab as p3\n",
    "from query import *\n",
    "\n",
    "query = QueryAll(['ra', 'dec', 'distance'])\n",
    "db = query.getResults()\n",
    "def convert_to_cartesian( ra,dec,dist,n):\n",
    "        ra = np.array(ra)\n",
    "        dec = np.array(dec)\n",
    "        dist = np.array(dist)\n",
    "        x = np.empty(n)\n",
    "        y = np.empty(n)\n",
    "        z = np.empty(n)\n",
    "        for i in range(0,n):\n",
    "            z[i] = dist[i] * np.sin(dec[i])\n",
    "            phi = dist[i] * np.cos(dec[i])\n",
    "            y[i] = phi * np.sin(ra[i])\n",
    "            x[i] = phi * np.cos(ra[i])\n",
    "        return x,y,z\n",
    "\n",
    "exo_indices = []\n",
    "non_indices = []\n",
    "for i in range(len(db['ra'])):\n",
    "    if db['status'].iloc[i] == 1:\n",
    "        exo_indices.append(i)\n",
    "    else:\n",
    "        non_indices.append(i)\n",
    "exo_ra = [db['ra'].iloc[i] for i in exo_indices]\n",
    "exo_dec = [db['dec'].iloc[i] for i in exo_indices]\n",
    "exo_dist = [db['dist'].iloc[i] for i in exo_indices]\n",
    "non_ra = [db['ra'].iloc[i] for i in non_indices]\n",
    "non_dec = [db['dec'].iloc[i] for i in non_indices]\n",
    "non_dist = [db['dist'].iloc[i] for i in non_indices]\n",
    "\n",
    "exo_x, exo_y, exo_z = convert_to_cartesian(exo_ra, exo_dec, exo_dist, len(exo_ra))\n",
    "x,y,z = convert_to_cartesian(non_ra, non_dec, non_dist, len(non_ra))\n",
    "\n",
    "ipv.figure()\n",
    "nonscatter = ipv.scatter(x,y,z, shape = 'sphere')\n",
    "exoscatter = ipv.scatter(exo_x, exo_y, exo_z, color = '#00c8ff', shape = 'sphere')\n",
    "ipv.show()\n"
   ]
  },
  {
   "cell_type": "markdown",
   "metadata": {},
   "source": [
    "## II. Identifying Potential Target Stars Using the SVM Software"
   ]
  },
  {
   "cell_type": "code",
   "execution_count": null,
   "metadata": {},
   "outputs": [],
   "source": [
    "import pandas as pd\n",
    "import numpy as np\n",
    "from astropy import units as u\n",
    "from astropy.coordinates import SkyCoord\n",
    "import math\n",
    "import ipyvolume as ipv\n",
    "from ipywidgets import FloatSlider, ColorPicker, VBox, jslink, IntSlider, ToggleButton\n",
    "import ipyvolume.pylab as p3\n",
    "from query import *\n",
    "from part3_SVMbig import *\n",
    "\n",
    "def convert_to_cartesian( ra,dec,dist,n):\n",
    "        ra = np.array(ra)\n",
    "        dec = np.array(dec)\n",
    "        dist = np.array(dist)\n",
    "        x = np.empty(n)\n",
    "        y = np.empty(n)\n",
    "        z = np.empty(n)\n",
    "        for i in range(0,n):\n",
    "            z[i] = dist[i] * np.sin(dec[i])\n",
    "            phi = dist[i] * np.cos(dec[i])\n",
    "            y[i] = phi * np.sin(ra[i])\n",
    "            x[i] = phi * np.cos(ra[i])\n",
    "        return x,y,z\n",
    "\n",
    "query = QueryAll(['ra', 'dec', 'distance', 'av_extinction',\n",
    "                 'd_star', 'eff_temp_star'])\n",
    "db = query.getResults()\n"
   ]
  }
 ],
 "metadata": {
  "kernelspec": {
   "display_name": "Python 3",
   "language": "python",
   "name": "python3"
  },
  "language_info": {
   "codemirror_mode": {
    "name": "ipython",
    "version": 3
   },
   "file_extension": ".py",
   "mimetype": "text/x-python",
   "name": "python",
   "nbconvert_exporter": "python",
   "pygments_lexer": "ipython3",
   "version": "3.6.4"
  }
 },
 "nbformat": 4,
 "nbformat_minor": 2
}
