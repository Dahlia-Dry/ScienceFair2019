{
 "cells": [
  {
   "cell_type": "code",
   "execution_count": 2,
   "metadata": {},
   "outputs": [
    {
     "name": "stdout",
     "output_type": "stream",
     "text": [
      "['ra', 'dec', 'dist']\n",
      "getting planet indices\n",
      "donezo\n",
      "['ra', 'dec', 'dist']\n",
      "getting noplanet indices\n",
      "donezo\n"
     ]
    },
    {
     "data": {
      "application/vnd.jupyter.widget-view+json": {
       "model_id": "8ec67f258c554cac8d9b94fc86c22a37",
       "version_major": 2,
       "version_minor": 0
      },
      "text/html": [
       "<p>Failed to display Jupyter Widget of type <code>VBox</code>.</p>\n",
       "<p>\n",
       "  If you're reading this message in the Jupyter Notebook or JupyterLab Notebook, it may mean\n",
       "  that the widgets JavaScript is still loading. If this message persists, it\n",
       "  likely means that the widgets JavaScript library is either not installed or\n",
       "  not enabled. See the <a href=\"https://ipywidgets.readthedocs.io/en/stable/user_install.html\">Jupyter\n",
       "  Widgets Documentation</a> for setup instructions.\n",
       "</p>\n",
       "<p>\n",
       "  If you're reading this message in another frontend (for example, a static\n",
       "  rendering on GitHub or <a href=\"https://nbviewer.jupyter.org/\">NBViewer</a>),\n",
       "  it may mean that your frontend doesn't currently support widgets.\n",
       "</p>\n"
      ],
      "text/plain": [
       "VBox(children=(Figure(camera_center=[0.0, 0.0, 0.0], height=500, matrix_projection=[0.0, 0.0, 0.0, 0.0, 0.0, 0.0, 0.0, 0.0, 0.0, 0.0, 0.0, 0.0, 0.0, 0.0, 0.0, 0.0], matrix_world=[0.0, 0.0, 0.0, 0.0, 0.0, 0.0, 0.0, 0.0, 0.0, 0.0, 0.0, 0.0, 0.0, 0.0, 0.0, 0.0], scatters=[Scatter(color_selected=array('white', dtype='<U5'), geo='sphere', size=array(0.6), size_selected=array(2.6), x=array([ 527.04323515, 1151.31448052, 1189.50480722, ..., -274.36198866,\n",
       "       -580.15429653, -214.51348943]), y=array([  204.38944426,   487.78411026,   517.58789373, ...,\n",
       "        -534.80945026, -1281.80357603,  -489.37004426]), z=array([  91.28305128,  231.31837089,  196.94541343, ...,  810.11166736,\n",
       "       2112.54818281,  837.14283102])), Scatter(color=array('#00c8ff', dtype='<U7'), color_selected=array('white', dtype='<U5'), geo='sphere', size=array(0.7), size_selected=array(2.6), x=array([4225.1035187 ,  413.94851513,  215.77295947, ...,  -93.88213693,\n",
       "        -79.14247267, -127.07999428]), y=array([2043.66035893,  328.67298866,  292.02000234, ..., -445.82021789,\n",
       "       -176.13259541, -333.24285523]), z=array([ 981.0419049 ,   88.85524039,   78.2250893 , ..., 1309.67798839,\n",
       "        477.80686512,  653.263035  ]))], style={'axes': {'visible': True, 'label': {'color': 'black'}, 'ticklabel': {'color': 'black'}, 'color': 'black'}, 'box': {'visible': True}, 'background-color': 'white'}, tf=None, width=400, xlim=[-202626.75324309483, 184492.56751529328], ylim=[-156775.5168649192, 191195.03086176014], zlim=[-212139.69077943038, 212533.45337109803]),))"
      ]
     },
     "metadata": {},
     "output_type": "display_data"
    }
   ],
   "source": [
    "import pandas as pd\n",
    "import numpy as np\n",
    "from astropy import units as u\n",
    "from astropy.coordinates import SkyCoord\n",
    "import math\n",
    "import ipyvolume as ipv\n",
    "from ipywidgets import FloatSlider, ColorPicker, VBox, jslink, IntSlider, ToggleButton\n",
    "import ipyvolume.pylab as p3\n",
    "from query import *\n",
    "\n",
    "query = QueryAll(['ra', 'dec', 'distance'])\n",
    "db = query.getResults()\n",
    "def convert_to_cartesian(ra,dec,dist,n):\n",
    "        ra = np.array(ra)\n",
    "        dec = np.array(dec)\n",
    "        dist = np.array(dist)\n",
    "        x = np.empty(n)\n",
    "        y = np.empty(n)\n",
    "        z = np.empty(n)\n",
    "        for i in range(n):\n",
    "            z[i] = dist[i] * np.sin(dec[i])\n",
    "            phi = dist[i] * np.cos(dec[i])\n",
    "            y[i] = phi * np.sin(ra[i])\n",
    "            x[i] = phi * np.cos(ra[i])\n",
    "        return x,y,z\n",
    "\n",
    "exo_indices = []\n",
    "non_indices = []\n",
    "for i in range(len(db['ra'])):\n",
    "    if db['status'].iloc[i] == 1:\n",
    "        exo_indices.append(i)\n",
    "    else:\n",
    "        non_indices.append(i)\n",
    "exo_ra = [db['ra'].iloc[i] for i in exo_indices]\n",
    "exo_dec = [db['dec'].iloc[i] for i in exo_indices]\n",
    "exo_dist = [db['dist'].iloc[i] for i in exo_indices]\n",
    "non_ra = [db['ra'].iloc[i] for i in non_indices]\n",
    "non_dec = [db['dec'].iloc[i] for i in non_indices]\n",
    "non_dist = [db['dist'].iloc[i] for i in non_indices]\n",
    "\n",
    "\n",
    "\n",
    "exo_x, exo_y, exo_z = convert_to_cartesian(exo_ra, exo_dec, exo_dist, len(exo_ra))\n",
    "x,y,z = convert_to_cartesian(non_ra, non_dec, non_dist, len(non_ra))\n",
    "\n",
    "ipv.figure()\n",
    "nonscatter = ipv.scatter(x,y,z, marker = 'sphere', size = 0.6)\n",
    "exoscatter = ipv.scatter(exo_x, exo_y, exo_z, size = 0.7,marker  = 'sphere',color = '#00c8ff')\n",
    "ipv.show()"
   ]
  },
  {
   "cell_type": "code",
   "execution_count": null,
   "metadata": {},
   "outputs": [],
   "source": []
  },
  {
   "cell_type": "code",
   "execution_count": null,
   "metadata": {},
   "outputs": [],
   "source": []
  }
 ],
 "metadata": {
  "kernelspec": {
   "display_name": "Python 3",
   "language": "python",
   "name": "python3"
  },
  "language_info": {
   "codemirror_mode": {
    "name": "ipython",
    "version": 3
   },
   "file_extension": ".py",
   "mimetype": "text/x-python",
   "name": "python",
   "nbconvert_exporter": "python",
   "pygments_lexer": "ipython3",
   "version": "3.6.4"
  }
 },
 "nbformat": 4,
 "nbformat_minor": 2
}
