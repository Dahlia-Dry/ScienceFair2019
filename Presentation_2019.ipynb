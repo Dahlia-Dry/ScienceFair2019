{
 "cells": [
  {
   "cell_type": "code",
   "execution_count": 7,
   "metadata": {},
   "outputs": [
    {
     "name": "stdout",
     "output_type": "stream",
     "text": [
      "['ra', 'dec', 'dist']\n",
      "getting planet indices\n",
      "donezo\n",
      "['ra', 'dec', 'dist']\n",
      "getting noplanet indices\n",
      "donezo\n",
      "[0, 1, 2, 3, 4, 5, 6, 7, 8, 9]\n"
     ]
    },
    {
     "ename": "IndexError",
     "evalue": "too many indices for array",
     "traceback": [
      "\u001b[0;31m---------------------------------------------------------------------------\u001b[0m",
      "\u001b[0;31mIndexError\u001b[0m                                Traceback (most recent call last)",
      "\u001b[0;32m<ipython-input-7-9be308ac63b2>\u001b[0m in \u001b[0;36m<module>\u001b[0;34m()\u001b[0m\n\u001b[1;32m     40\u001b[0m \u001b[0mprint\u001b[0m\u001b[0;34m(\u001b[0m\u001b[0mexo_indices\u001b[0m\u001b[0;34m[\u001b[0m\u001b[0;34m:\u001b[0m\u001b[0;36m10\u001b[0m\u001b[0;34m]\u001b[0m\u001b[0;34m)\u001b[0m\u001b[0;34m\u001b[0m\u001b[0m\n\u001b[1;32m     41\u001b[0m \u001b[0;34m\u001b[0m\u001b[0m\n\u001b[0;32m---> 42\u001b[0;31m \u001b[0mexo_x\u001b[0m\u001b[0;34m,\u001b[0m \u001b[0mexo_y\u001b[0m\u001b[0;34m,\u001b[0m \u001b[0mexo_z\u001b[0m \u001b[0;34m=\u001b[0m \u001b[0mconvert_to_cartesian\u001b[0m\u001b[0;34m(\u001b[0m\u001b[0mexo_ra\u001b[0m\u001b[0;34m,\u001b[0m \u001b[0mexo_dec\u001b[0m\u001b[0;34m,\u001b[0m \u001b[0mexo_dist\u001b[0m\u001b[0;34m,\u001b[0m \u001b[0mlen\u001b[0m\u001b[0;34m(\u001b[0m\u001b[0mexo_ra\u001b[0m\u001b[0;34m)\u001b[0m\u001b[0;34m)\u001b[0m\u001b[0;34m\u001b[0m\u001b[0m\n\u001b[0m\u001b[1;32m     43\u001b[0m \u001b[0mx\u001b[0m\u001b[0;34m,\u001b[0m\u001b[0my\u001b[0m\u001b[0;34m,\u001b[0m\u001b[0mz\u001b[0m \u001b[0;34m=\u001b[0m \u001b[0mconvert_to_cartesian\u001b[0m\u001b[0;34m(\u001b[0m\u001b[0mnon_ra\u001b[0m\u001b[0;34m,\u001b[0m \u001b[0mnon_dec\u001b[0m\u001b[0;34m,\u001b[0m \u001b[0mnon_dist\u001b[0m\u001b[0;34m,\u001b[0m \u001b[0mlen\u001b[0m\u001b[0;34m(\u001b[0m\u001b[0mnon_ra\u001b[0m\u001b[0;34m)\u001b[0m\u001b[0;34m)\u001b[0m\u001b[0;34m\u001b[0m\u001b[0m\n\u001b[1;32m     44\u001b[0m \u001b[0;34m\u001b[0m\u001b[0m\n",
      "\u001b[0;32m<ipython-input-7-9be308ac63b2>\u001b[0m in \u001b[0;36mconvert_to_cartesian\u001b[0;34m(self, ra, dec, dist, n)\u001b[0m\n\u001b[1;32m     19\u001b[0m         \u001b[0mz\u001b[0m \u001b[0;34m=\u001b[0m \u001b[0mnp\u001b[0m\u001b[0;34m.\u001b[0m\u001b[0mempty\u001b[0m\u001b[0;34m(\u001b[0m\u001b[0mn\u001b[0m\u001b[0;34m)\u001b[0m\u001b[0;34m\u001b[0m\u001b[0m\n\u001b[1;32m     20\u001b[0m         \u001b[0;32mfor\u001b[0m \u001b[0mi\u001b[0m \u001b[0;32min\u001b[0m \u001b[0mrange\u001b[0m\u001b[0;34m(\u001b[0m\u001b[0;36m0\u001b[0m\u001b[0;34m,\u001b[0m\u001b[0mn\u001b[0m\u001b[0;34m)\u001b[0m\u001b[0;34m:\u001b[0m\u001b[0;34m\u001b[0m\u001b[0m\n\u001b[0;32m---> 21\u001b[0;31m             \u001b[0mz\u001b[0m\u001b[0;34m[\u001b[0m\u001b[0mi\u001b[0m\u001b[0;34m]\u001b[0m \u001b[0;34m=\u001b[0m \u001b[0mdist\u001b[0m\u001b[0;34m[\u001b[0m\u001b[0mi\u001b[0m\u001b[0;34m]\u001b[0m \u001b[0;34m*\u001b[0m \u001b[0mnp\u001b[0m\u001b[0;34m.\u001b[0m\u001b[0msin\u001b[0m\u001b[0;34m(\u001b[0m\u001b[0mdec\u001b[0m\u001b[0;34m[\u001b[0m\u001b[0mi\u001b[0m\u001b[0;34m]\u001b[0m\u001b[0;34m)\u001b[0m\u001b[0;34m\u001b[0m\u001b[0m\n\u001b[0m\u001b[1;32m     22\u001b[0m             \u001b[0mphi\u001b[0m \u001b[0;34m=\u001b[0m \u001b[0mdist\u001b[0m\u001b[0;34m[\u001b[0m\u001b[0mi\u001b[0m\u001b[0;34m]\u001b[0m \u001b[0;34m*\u001b[0m \u001b[0mnp\u001b[0m\u001b[0;34m.\u001b[0m\u001b[0mcos\u001b[0m\u001b[0;34m(\u001b[0m\u001b[0mdec\u001b[0m\u001b[0;34m[\u001b[0m\u001b[0mi\u001b[0m\u001b[0;34m]\u001b[0m\u001b[0;34m)\u001b[0m\u001b[0;34m\u001b[0m\u001b[0m\n\u001b[1;32m     23\u001b[0m             \u001b[0my\u001b[0m\u001b[0;34m[\u001b[0m\u001b[0mi\u001b[0m\u001b[0;34m]\u001b[0m \u001b[0;34m=\u001b[0m \u001b[0mphi\u001b[0m \u001b[0;34m*\u001b[0m \u001b[0mnp\u001b[0m\u001b[0;34m.\u001b[0m\u001b[0msin\u001b[0m\u001b[0;34m(\u001b[0m\u001b[0mra\u001b[0m\u001b[0;34m[\u001b[0m\u001b[0mi\u001b[0m\u001b[0;34m]\u001b[0m\u001b[0;34m)\u001b[0m\u001b[0;34m\u001b[0m\u001b[0m\n",
      "\u001b[0;31mIndexError\u001b[0m: too many indices for array"
     ],
     "output_type": "error"
    }
   ],
   "source": [
    "import pandas as pd\n",
    "import numpy as np\n",
    "from astropy import units as u\n",
    "from astropy.coordinates import SkyCoord\n",
    "import math\n",
    "import ipyvolume as ipv\n",
    "from ipywidgets import FloatSlider, ColorPicker, VBox, jslink, IntSlider, ToggleButton\n",
    "import ipyvolume.pylab as p3\n",
    "from query import *\n",
    "\n",
    "query = QueryAll(['ra', 'dec', 'distance'])\n",
    "db = query.getResults()\n",
    "def convert_to_cartesian(self, ra,dec,dist,n =1000):\n",
    "        ra = np.array(ra)\n",
    "        dec = np.array(dec)\n",
    "        dist = np.array(dist)\n",
    "        x = np.empty(n)\n",
    "        y = np.empty(n)\n",
    "        z = np.empty(n)\n",
    "        for i in range(0,n):\n",
    "            z[i] = dist[i] * np.sin(dec[i])\n",
    "            phi = dist[i] * np.cos(dec[i])\n",
    "            y[i] = phi * np.sin(ra[i])\n",
    "            x[i] = phi * np.cos(ra[i])\n",
    "        return x,y,z\n",
    "\n",
    "exo_indices = []\n",
    "non_indices = []\n",
    "for i in range(len(db['ra'])):\n",
    "    if db['status'].iloc[i] == 1:\n",
    "        exo_indices.append(i)\n",
    "    else:\n",
    "        non_indices.append(i)\n",
    "exo_ra = [db['ra'].iloc[i] for i in exo_indices]\n",
    "exo_dec = [db['dec'].iloc[i] for i in exo_indices]\n",
    "exo_dist = [db['dist'].iloc[i] for i in exo_indices]\n",
    "non_ra = [db['ra'].iloc[i] for i in non_indices]\n",
    "non_dec = [db['dec'].iloc[i] for i in non_indices]\n",
    "non_dist = [db['dist'].iloc[i] for i in non_indices]\n",
    "print(exo_indices[:10])\n",
    "\n",
    "exo_x, exo_y, exo_z = convert_to_cartesian(exo_ra, exo_dec, exo_dist, len(exo_ra))\n",
    "x,y,z = convert_to_cartesian(non_ra, non_dec, non_dist, len(non_ra))\n",
    "\n",
    "ipv.figure()\n",
    "nonscatter = ipv.scatter(x,y,z)\n",
    "exoscatter = ipv.scatter(exo_x, exo_y, exo_z, color = '#00c8ff')\n"
   ]
  },
  {
   "cell_type": "code",
   "execution_count": null,
   "metadata": {},
   "outputs": [],
   "source": []
  }
 ],
 "metadata": {
  "kernelspec": {
   "display_name": "Python 3",
   "language": "python",
   "name": "python3"
  },
  "language_info": {
   "codemirror_mode": {
    "name": "ipython",
    "version": 3
   },
   "file_extension": ".py",
   "mimetype": "text/x-python",
   "name": "python",
   "nbconvert_exporter": "python",
   "pygments_lexer": "ipython3",
   "version": "3.6.4"
  }
 },
 "nbformat": 4,
 "nbformat_minor": 2
}
